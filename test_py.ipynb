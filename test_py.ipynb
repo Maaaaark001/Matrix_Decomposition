{
 "cells": [
  {
   "cell_type": "code",
   "execution_count": null,
   "metadata": {},
   "outputs": [],
   "source": [
    "from numpy.random import RandomState\n",
    "import matplotlib.pyplot as plt\n",
    "from sklearn.datasets import fetch_olivetti_faces   #加载Olivetti人脸数据集导入函数\n",
    "from sklearn import decomposition\n",
    "\n",
    "n_row, n_col = 2, 3\n",
    "n_components = n_row * n_col   #设置提取的特征的数目\n",
    "image_shape = (64, 64)   #设置展示时人脸数据图片的大小\n",
    "\n",
    "dataset = fetch_olivetti_faces(shuffle=True, random_state=RandomState(0))\n",
    "faces = dataset.data\n",
    "\n",
    "def plot_gallery(title, images, n_col=n_col, n_row=n_row):\n",
    "    plt.figure(figsize=(2. * n_col, 2.26 * n_row))\n",
    "    plt.suptitle(title, size=16)\n",
    "\n",
    "    for i, comp in enumerate(images):\n",
    "        plt.subplot(n_row, n_col, i + 1)\n",
    "        vmax = max(comp.max(), -comp.min())\n",
    "        plt.imshow(comp.reshape(image_shape), cmap=plt.cm.gray,\n",
    "                   interpolation='nearest', vmin=-vmax, vmax=vmax)\n",
    "        plt.xticks(())\n",
    "        plt.yticks(())\n",
    "    plt.subplots_adjust(0.01, 0.05, 0.99, 0.94, 0.04, 0.)\n",
    "\n",
    "plot_gallery(\"First centered Olivetti faces\", faces[:n_components])\n",
    "\n",
    "estimators = [('Eigenfaces - PCA using randomized SVD', decomposition.PCA(n_components=n_components, whiten=True)),\n",
    "              ('Non-negative components - NMF', decomposition.NMF(n_components=n_components, init='nndsvda', tol=5e-3))]\n",
    "\n",
    "for name, estimator in estimators:\n",
    "    print(\"Extracting the top %d %s...\" % (n_components, name))\n",
    "    print(faces.shape)\n",
    "    estimator.fit(faces)   #调用PCA或NMF提取特征\n",
    "    components_ = estimator.components_   #获取提取的特征\n",
    "    plot_gallery(name, components_[:n_components])\n",
    "\n",
    "plt.show()"
   ]
  }
 ],
 "metadata": {
  "kernelspec": {
   "display_name": "Python 3",
   "language": "python",
   "name": "python3"
  },
  "language_info": {
   "name": "python",
   "version": "3.8.5"
  }
 },
 "nbformat": 4,
 "nbformat_minor": 2
}
